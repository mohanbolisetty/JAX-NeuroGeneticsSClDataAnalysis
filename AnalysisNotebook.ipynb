{
 "cells": [
  {
   "cell_type": "code",
   "execution_count": null,
   "metadata": {
    "collapsed": false
   },
   "outputs": [],
   "source": [
    "%%bash\n",
    "rm -r Data\n",
    "mkdir Data\n",
    "cp ../ubuntu/ZZ17001a/mm10/barcodes.tsv Data/\n",
    "cp ../ubuntu/ZZ17001a/mm10/genes.tsv Data/\n",
    "cp ../ubuntu/ZZ17001a/mm10/matrix.mtx Data/"
   ]
  },
  {
   "cell_type": "code",
   "execution_count": null,
   "metadata": {
    "collapsed": false
   },
   "outputs": [],
   "source": [
    "%matplotlib inline\n",
    "import pandas as pd\n",
    "import numpy as np\n",
    "import matplotlib\n",
    "import matplotlib.pyplot as plt\n",
    "import scipy.io\n",
    "import scipy.stats as stats\n",
    "from statsmodels.robust.scale import mad\n",
    "pd.core.config.option_context('mode.use_inf_as_null',True)\n",
    "import seaborn as sns\n",
    "import os \n",
    "import sys\n",
    "import csv\n",
    "import shlex\n",
    "import subprocess\n",
    "\n",
    "sys.setrecursionlimit(10000)\n",
    "\n",
    "from plotly.graph_objs import Scatter3d, Data, Marker,Layout, Figure, Scene, XAxis, YAxis, ZAxis\n",
    "import plotly.plotly as py\n",
    "from plotly.offline import download_plotlyjs, init_notebook_mode, plot, iplot\n",
    "\n",
    "init_notebook_mode(connected=True)\n",
    "\n",
    "matplotlib.rcParams['axes.edgecolor']='k'\n",
    "matplotlib.rcParams['axes.linewidth']=3\n",
    "matplotlib.rcParams['axes.spines.top']='off'\n",
    "matplotlib.rcParams['axes.spines.right']='off'\n",
    "matplotlib.rcParams['axes.facecolor']='white'"
   ]
  },
  {
   "cell_type": "code",
   "execution_count": null,
   "metadata": {
    "collapsed": true
   },
   "outputs": [],
   "source": [
    "def read10X(path):\n",
    "    mat = scipy.io.mmread(os.path.join(path,\"matrix.mtx\"))\n",
    " \n",
    "    genes_path =os.path.join(path,\"genes.tsv\")\n",
    "    gene_ids = [row[0] for row in csv.reader(open(genes_path), delimiter=\"\\t\")]\n",
    "    gene_names = [row[1] for row in csv.reader(open(genes_path), delimiter=\"\\t\")]\n",
    "\n",
    "    barcodes_path = os.path.join(path,\"barcodes.tsv\")\n",
    "    barcodes = [row[0] for row in csv.reader(open(barcodes_path), delimiter=\"\\t\")]\n",
    "    \n",
    "    featureData=pd.DataFrame(data=gene_names, index=gene_ids, columns=['Associated.Gene.Name'])\n",
    "    \n",
    "    counts=pd.DataFrame(index=gene_ids,columns=barcodes,data=mat.todense())\n",
    "    \n",
    "    return counts, featureData\n",
    "\n",
    "def filterCells(counts):\n",
    "    umi_counts=counts.sum()\n",
    "    cells1000=umi_counts[umi_counts>500].index\n",
    "    \n",
    "    return cells1000\n",
    "\n",
    "def filterGenes(counts):\n",
    "    filteredGenes=counts.index[(counts >= 2).sum(1) >=2]\n",
    "    return filteredGenes\n",
    "\n",
    "def plotQC(counts):\n",
    "    genesdetected=(counts>=1.).sum()\n",
    "    umi_counts=counts.sum()\n",
    "    fig,(ax,ax1)=plt.subplots(1,2,figsize=(10, 5))\n",
    "\n",
    "    genesdetected.plot(kind='hist',bins=np.arange(0,5000,100),lw=0,ax=ax)\n",
    "    ax.grid('off')\n",
    "    ax.patch.set_facecolor('white')\n",
    "    ax.axvline(x=np.median(genesdetected),ls='--',lw=2,c='k')\n",
    "    ax.set_xlabel('Genes',fontsize=13)\n",
    "    ax.set_ylabel('Cells',fontsize=13)\n",
    "\n",
    "    umi_counts.plot(kind='hist',bins=np.arange(0,10000,500),lw=0,ax=ax1,color=sns.color_palette()[1])\n",
    "    ax1.grid('off')\n",
    "    ax1.patch.set_facecolor('white')\n",
    "    ax1.axvline(x=np.median(umi_counts),ls='--',lw=2,c='k')\n",
    "    ax1.set_xlabel('Transcripts - UMI',fontsize=13)\n",
    "    ax1.set_ylabel('Cells',fontsize=13)\n",
    "\n",
    "def normalize(counts):\n",
    "    cells1000=filterCells(counts)\n",
    "    filteredGenes=filterGenes(counts)\n",
    "    umi_counts=counts.sum()\n",
    "    \n",
    "    cpt=counts*np.median(umi_counts)/umi_counts\n",
    "    cpt=cpt.loc[filteredGenes,cells1000]\n",
    "    cpt=(cpt+1).apply(np.log)\n",
    "    \n",
    "    return cpt\n",
    "\n",
    "def overdispersion(cpt,nGenes):\n",
    "    \n",
    "    meanExpression=np.log(np.mean(np.exp(cpt)-1,1)+1)\n",
    "    dispersion=np.log(np.var(np.exp(cpt)-1,1)/np.mean(np.exp(cpt)-1,1))\n",
    "    bins = np.linspace(min(meanExpression),max(meanExpression),20)\n",
    "    pos = np.digitize(meanExpression, bins)\n",
    "    overDispersion=[]\n",
    "\n",
    "    for index,gene in enumerate(meanExpression.index):\n",
    "        medianBin=dispersion[pos==pos[index]].median()\n",
    "        madBin=mad(dispersion[pos==pos[index]])\n",
    "        normalizedDispersion=abs(dispersion.ix[gene]-medianBin)/madBin\n",
    "        overDispersion.append([ gene, normalizedDispersion ])\n",
    "\n",
    "    overDispersion=pd.DataFrame(overDispersion)\n",
    "    overDispersion.set_index(0,inplace=True)\n",
    "    top1000=overDispersion.sort_values(1,ascending=False)[:nGenes].index\n",
    "    \n",
    "    return top1000\n",
    "    \n",
    "def variance(cpt,nGenes):\n",
    "    variance=cpt.var(1)\n",
    "    top1000=variance.sort_values(inplace=True,ascending=False)[:nGenes].index\n",
    "    \n",
    "    return top1000\n",
    "    \n",
    "def runTSNE(cpt,genes):\n",
    "    np.savetxt('Data/filtered.tsv', cpt.loc[top1000].T.values, delimiter='\\t')\n",
    "    cmd='/opt/bhtsne/bhtsne.py -d 3 -i Data/filtered.tsv --no_pca -r 1024 -o Data/out.tsv'\n",
    "    cmd=shlex.split(cmd)    \n",
    "    proc=subprocess.Popen(cmd,stdout=subprocess.PIPE,stderr=subprocess.PIPE)\n",
    "    stdout, stderr=proc.communicate()\n",
    "    tsne=np.loadtxt('Data/out.tsv')\n",
    "    tsneData=pd.DataFrame(tsne,index=cpt.columns, columns=['V1','V2','V3'])\n",
    "    return tsneData\n",
    "\n",
    "def PCA(cpt,genes):\n",
    "    from sklearn.decomposition import PCA as sklearnPCA\n",
    "    sklearn_pca = sklearnPCA(n_components=50)\n",
    "    Y_sklearn = sklearn_pca.fit_transform(cpt.ix[top1000].T)\n",
    "    \n",
    "    pcaData=pd.DataFrame(Y_sklearn,index=cpt.columns)\n",
    "    \n",
    "    eig_vals=sklearn_pca.explained_variance_\n",
    "    tot = sum(eig_vals)\n",
    "    var_exp = [(i / tot)*100 for i in sorted(eig_vals, reverse=True)]\n",
    "    cum_var_exp = np.cumsum(var_exp)\n",
    "    \n",
    "    return pcaData,cum_var_exp\n",
    "\n",
    "def getEnsid(featureData,gene):\n",
    "    return featureData[featureData['Associated.Gene.Name']==gene].index\n",
    "\n",
    "def plotTSNE(cpt,tsnedata,gene,featureData,dim1,dim2):\n",
    "    fig,ax=plt.subplots(1)\n",
    "    ax.scatter(tsnedata[dim1],tsnedata[dim2],c=cpt.loc[getEnsid(featureData,gene),],s=10, \n",
    "               linewidths=1, cmap=plt.cm.Greens,vmax=2,vmin=0.1)\n",
    "    ax.set_title(gene)\n",
    "    \n",
    "    #return fig\n",
    "\n",
    "def dbscan(tsnedata,eps,minCells):\n",
    "    from sklearn.cluster import DBSCAN\n",
    "    db = DBSCAN(eps=eps, min_samples=minCells).fit(tsnedata.values)\n",
    "    tsnedata['dbCluster'] = db.labels_+1\n",
    "    \n",
    "    return tsnedata\n",
    "\n",
    "def plotTSNEClusters(tsnedata,dim1,dim2):\n",
    "    colors=['#a6cee3','#1f78b4','#b2df8a',\n",
    "        '#33a02c','#fb9a99','#e31a1c',\n",
    "        '#fdbf6f','#ff7f00','#cab2d6',\n",
    "        '#6a3d9a','#ffff99','#b15928',\n",
    "       '#000000','#bdbdbd','#ffff99']\n",
    "\n",
    "    k2=sns.lmplot(dim1, dim2, data=tsnedata, hue='dbCluster', fit_reg=False,palette=colors,scatter_kws={\"s\": 5})\n",
    "    k2.ax.grid('off')\n",
    "    k2.ax.patch.set_facecolor('white')\n",
    "    #k2.savefig('../Figures/TSNE-KM.pdf',format='pdf',dpi=300)\n",
    "\n",
    "def mkRds(cpt,featureData,tsnedata):\n",
    "    \n",
    "    cpt.to_csv('Data/Expression-G.csv')\n",
    "    featureData.to_csv('Data/MM10_10X-FeatureData.csv')\n",
    "    tsnedata.to_csv('Data/TSNEData-Dbscan.csv')\n",
    "    \n",
    "    rscript='''\n",
    "    rm(list=ls())\n",
    "\n",
    "    setwd('%s')\n",
    "\n",
    "    log2cpm<-read.csv('%s',row.names=1,stringsAsFactors = F, as.is=T, check.names=F)\n",
    "    featuredata<-read.csv('%s',row.names=1,stringsAsFactors = F, as.is=T,sep=',',check.names=F)\n",
    "    tsne.data<-read.csv('%s',row.names=1,stringsAsFactors = F,as.is=T,check.names=F)\n",
    "\n",
    "    save(log2cpm,featuredata,tsne.data,file='%s')\n",
    "\n",
    "    '''%(os.getcwd(),'Data/Expression-G.csv','Data/MM10_10X-FeatureData.csv',\n",
    "         'Data/TSNEData-Dbscan.csv','Data/Data.Rds')\n",
    "    \n",
    "    with open('Data/setupRds.R','w') as fout:\n",
    "        fout.writelines(rscript)\n",
    "        \n",
    "    cmd='R --no-save -f Data/setupRds.R'\n",
    "    os.system(cmd)\n",
    "\n",
    "def tsne3d(tsnedata):\n",
    "    walkers=[]\n",
    "    colors=['#a6cee3','#1f78b4','#b2df8a','#33a02c','#fb9a99','#e31a1c','#fdbf6f','#ff7f00','#cab2d6',\n",
    "            '#6a3d9a','#ffff99','#b15928','#000000','#bdbdbd','#ffff99']\n",
    "    colors=colors*3\n",
    "\n",
    "    for ii in range(0,44,1):\n",
    "        tsne_subset=tsnedata[tsnedata['dbCluster']==ii]\n",
    "\n",
    "        cellnames=tsne_subset.index\n",
    "        a=tsne_subset['V1'].values\n",
    "        b=tsne_subset['V2'].values\n",
    "        c=tsne_subset['V3'].values\n",
    "\n",
    "        trace = Scatter3d(\n",
    "            x=a,\n",
    "            y=b,\n",
    "            z=c,\n",
    "            text=['CellName: %s' %(i) for i in cellnames],\n",
    "            mode='markers',\n",
    "            name=ii,\n",
    "            marker=dict(\n",
    "            color=colors[ii],\n",
    "            size=3,\n",
    "            symbol='circle',\n",
    "            line=dict(\n",
    "                color=colors[ii],\n",
    "                width=0\n",
    "            )\n",
    "        ))\n",
    "        walkers.append(trace)\n",
    "\n",
    "    data = Data(walkers)\n",
    "\n",
    "    layout = Layout(\n",
    "        title='BS16001-TE1',\n",
    "        hovermode='closest',\n",
    "\n",
    "        xaxis=dict(\n",
    "            title='TSNE-1',\n",
    "            ticklen=0,\n",
    "            showline=True,\n",
    "            zeroline=True\n",
    "        ),\n",
    "        yaxis=dict(\n",
    "            title='TSNE-2',\n",
    "            ticklen=5,\n",
    "        ),    \n",
    "        scene=Scene(\n",
    "            xaxis=XAxis(title='TSNE-1',showgrid=True,zeroline=True,showticklabels=True),\n",
    "            yaxis=YAxis(title='TSNE-2',showgrid=True,zeroline=True,showticklabels=True),\n",
    "            zaxis=ZAxis(title='TSNE-3',showgrid=True,zeroline=True,showticklabels=True)\n",
    "            )\n",
    "        )\n",
    "\n",
    "\n",
    "    fig = Figure(data=data, layout=layout)\n",
    "    iplot(fig)\n",
    "    \n",
    "def findMarkers(cpt,cells1,cells2,genes):\n",
    "    aucScores=[]\n",
    "    from sklearn import metrics\n",
    "    for gene in genes:\n",
    "        y=[1]*len(cells2)+[2]*len(cells1)\n",
    "        pred = np.concatenate((cpt.loc[gene,cells2],cpt.loc[gene,cells1]))\n",
    "        fpr, tpr, thresholds = metrics.roc_curve(y, pred, pos_label=2)\n",
    "        aucScores.append(metrics.auc(fpr, tpr))\n",
    "    return pd.DataFrame(aucScores,index=genes,columns=['Score'])\n",
    "\n",
    "def expMean(x):\n",
    "    return(np.log(np.mean(np.exp(x)-1)+1))\n",
    "\n",
    "def markerHeatmap(cpt,genes,tsnedata_dbscan,featureData):\n",
    "    hdata=cpt.loc[genes,].dropna()\n",
    "    colorMap=dict(zip(range(1,8,1),sns.color_palette('Set1',9)))\n",
    "\n",
    "    hetmap=sns.clustermap(hdata,z_score=0,yticklabels=False,vmin=-3,vmax=3,\\\n",
    "                          xticklabels=featureData.loc[genes,'Associated.Gene.Name']\n",
    "                          ,row_cluster=True,col_cluster=True\n",
    "                          ,col_colors=colorMap,metric='correlation'\n",
    "                         )\n",
    "    b=plt.setp(hetmap.ax_heatmap.yaxis.get_majorticklabels(), rotation=0)\n",
    "\n"
   ]
  },
  {
   "cell_type": "markdown",
   "metadata": {},
   "source": [
    "### Read Input data"
   ]
  },
  {
   "cell_type": "code",
   "execution_count": null,
   "metadata": {
    "collapsed": false
   },
   "outputs": [],
   "source": [
    "counts, featuredata=read10X('Data/')"
   ]
  },
  {
   "cell_type": "markdown",
   "metadata": {},
   "source": [
    "### Shape of dataset: Genes, Cells"
   ]
  },
  {
   "cell_type": "code",
   "execution_count": null,
   "metadata": {
    "collapsed": false
   },
   "outputs": [],
   "source": [
    "counts.shape"
   ]
  },
  {
   "cell_type": "markdown",
   "metadata": {},
   "source": [
    "### Normalize data\n",
    "Since number of genes and transcipts detected is directly dependent on read depth, library size normalization is essential. This function will normalize gene expression based on total transcripts detected in each cell, multiply with a constant and log transform."
   ]
  },
  {
   "cell_type": "code",
   "execution_count": null,
   "metadata": {
    "collapsed": false
   },
   "outputs": [],
   "source": [
    "cpt=normalize(counts)"
   ]
  },
  {
   "cell_type": "markdown",
   "metadata": {},
   "source": [
    "### Feature Selection\n",
    "One of the most important steps in single cell RNA seq processing, is selecting genes that describe most of the biological variance. However, this is confounded by the high levels of technical noise associated with single cell RNA-seq data. \n",
    "\n",
    "***This jupyter notebook contains 2 functions to enable feature selection:***\n",
    "1. variance - select the top variable genes in the dataset\n",
    "2. overdispersion - select the top variable genes in the dataset corrected for technical variance"
   ]
  },
  {
   "cell_type": "code",
   "execution_count": null,
   "metadata": {
    "collapsed": false
   },
   "outputs": [],
   "source": [
    "top1000=overdispersion(cpt,1000)"
   ]
  },
  {
   "cell_type": "markdown",
   "metadata": {},
   "source": [
    "### Dimensionality reduction \n",
    "After gene selection, the high dimensionality of single cell RNA-seq data is commnly reduced to cluster similar cells together. \n",
    "***This jupyter notebook contains 2 functions for dimensionality reduction:***\n",
    "1. PCA \n",
    "2. tSNE - for the purposes of the demonstration, we will use tSNE and reduce data to 3 dimensions"
   ]
  },
  {
   "cell_type": "code",
   "execution_count": null,
   "metadata": {
    "collapsed": false
   },
   "outputs": [],
   "source": [
    "tsnedata=runTSNE(cpt,top1000)"
   ]
  },
  {
   "cell_type": "markdown",
   "metadata": {},
   "source": [
    "### Visualization \n",
    "Visualization is an important part of an single cell experiment. Exploring data with genes of interest helps validate clustering as wells begins the process of identifying the cell type of each cluster\n",
    "\n",
    "Lets take a look at our dimensionality reduction by plotting cells."
   ]
  },
  {
   "cell_type": "code",
   "execution_count": null,
   "metadata": {
    "collapsed": false
   },
   "outputs": [],
   "source": [
    "plt.scatter(tsnedata['V2'],tsnedata['V3'],s=5)"
   ]
  },
  {
   "cell_type": "markdown",
   "metadata": {},
   "source": [
    "### Visualization \n",
    "Visualization is an important part of an single cell experiment. Exploring data with genes of interest helps validate clustering as wells begins the process of identifying the cell type of each cluster\n",
    "\n",
    "Lets take a look at our dimensionality reduction by plotting cells, but this time color each cell by the expression of particular gene. Pick from Emcn, Olig1, Olig2, Pdgra, Fyn, Aqp4,Mog,Slc32a1,Slc17a6,Cx3cr1."
   ]
  },
  {
   "cell_type": "code",
   "execution_count": null,
   "metadata": {
    "collapsed": false
   },
   "outputs": [],
   "source": [
    "plotTSNE(cpt,tsnedata,'Gapdh',featuredata,'V1','V3')"
   ]
  },
  {
   "cell_type": "markdown",
   "metadata": {},
   "source": [
    "### Cluster identification \n",
    "After dimensionality reduction, clusters are identified using a variety of approaches. We will use a simple algorithm called DBSCAN to identify clusters\n",
    "\n",
    "***This jupyter notebook contains 1 functions for dimensionality reduction:***\n",
    "1. DBSCAN "
   ]
  },
  {
   "cell_type": "code",
   "execution_count": null,
   "metadata": {
    "collapsed": false
   },
   "outputs": [],
   "source": [
    "tsnedata_dbscan=dbscan(tsnedata,3.5,40)"
   ]
  },
  {
   "cell_type": "markdown",
   "metadata": {},
   "source": [
    "### Visualization \n",
    "\n",
    "Lets take a look at our dimensionality reduction by plotting cells, but this time color each cell by the cluster assignment as determined by DBSCAN"
   ]
  },
  {
   "cell_type": "code",
   "execution_count": null,
   "metadata": {
    "collapsed": false
   },
   "outputs": [],
   "source": [
    "plotTSNEClusters(tsnedata_dbscan,'V2','V3')"
   ]
  },
  {
   "cell_type": "markdown",
   "metadata": {},
   "source": [
    "### Visualization \n",
    "\n",
    "Lets take a look at our dimensionality reduction by plotting cells, but this time color each cell by the cluster assignment as determined by DBSCAN. Remember that our data was reduced to 3 dimensions. So, lets plot all 3 dimensions"
   ]
  },
  {
   "cell_type": "code",
   "execution_count": null,
   "metadata": {
    "collapsed": true
   },
   "outputs": [],
   "source": [
    "tsne3d(tsnedata_dbscan)"
   ]
  },
  {
   "cell_type": "markdown",
   "metadata": {},
   "source": [
    "### Marker Identification\n",
    "Identifying genes that differentiate each of these cell populations is an important aspect of single cell RNA-seq data. There are many different methods to do this type of analysis. Given the size of the dataset ome of these are compute heavy. For the sake of brevity, we will use AUROC classification of differentially expressed genes. "
   ]
  },
  {
   "cell_type": "code",
   "execution_count": null,
   "metadata": {
    "collapsed": false
   },
   "outputs": [],
   "source": [
    "aurocScoresAll=pd.DataFrame()\n",
    "for cluster in range(1,8,1):\n",
    "\n",
    "    cells1=tsnedata_dbscan[tsnedata_dbscan['dbCluster']==cluster].index\n",
    "    cells2=tsnedata_dbscan.index.difference(cells1)\n",
    "\n",
    "    data1=cpt.loc[cpt.index,cells1].apply(expMean,1)\n",
    "    data2=cpt.loc[cpt.index,cells2].apply(expMean,1)\n",
    "    totaldiff=(data1-data2)\n",
    "    genes=totaldiff[totaldiff>1.].index\n",
    "\n",
    "    aurocScores=findMarkers(cpt,\n",
    "                  cells1,\n",
    "                  cells2,\n",
    "                  genes\n",
    "                 )\n",
    "    aurocScores['Associated.Gene.Name']=featuredata['Associated.Gene.Name']\n",
    "    aurocScores['dbCluster']=cluster\n",
    "    aurocScoresAll=aurocScoresAll.append(aurocScores)"
   ]
  },
  {
   "cell_type": "markdown",
   "metadata": {},
   "source": [
    "### Visualization \n",
    "\n",
    "Let's make a heatmap of all markergenes"
   ]
  },
  {
   "cell_type": "code",
   "execution_count": null,
   "metadata": {
    "collapsed": false
   },
   "outputs": [],
   "source": [
    "markerHeatmap(cpt,aurocScoresAll.index,tsnedata_dbscan,featuredata)"
   ]
  },
  {
   "cell_type": "markdown",
   "metadata": {},
   "source": [
    "### Make .Rds file for CellView \n",
    "\n",
    "And finally, let's summarize this analysis into an .Rds file that we can share with others"
   ]
  },
  {
   "cell_type": "code",
   "execution_count": null,
   "metadata": {
    "collapsed": false
   },
   "outputs": [],
   "source": [
    "mkRds(cpt,featuredata,tsnedata_dbscan)"
   ]
  }
 ],
 "metadata": {
  "kernelspec": {
   "display_name": "Python 2",
   "language": "python",
   "name": "python2"
  },
  "language_info": {
   "codemirror_mode": {
    "name": "ipython",
    "version": 2
   },
   "file_extension": ".py",
   "mimetype": "text/x-python",
   "name": "python",
   "nbconvert_exporter": "python",
   "pygments_lexer": "ipython2",
   "version": "2.7.13"
  }
 },
 "nbformat": 4,
 "nbformat_minor": 2
}
